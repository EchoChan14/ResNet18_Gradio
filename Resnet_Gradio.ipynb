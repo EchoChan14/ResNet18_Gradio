{
 "cells": [
  {
   "cell_type": "code",
   "execution_count": 1,
   "id": "e8a3f7df-7121-44e8-ac5f-a04be233b6c3",
   "metadata": {},
   "outputs": [
    {
     "name": "stdout",
     "output_type": "stream",
     "text": [
      "✅ ResNet18 模型已載入，準備啟動 Gradio\n"
     ]
    }
   ],
   "source": [
    "# 🖼️ ResNet18 + Gradio 圖片分類介面：AI 美食中文說明系統\n",
    "\n",
    "import gradio as gr\n",
    "import torch\n",
    "import torch.nn as nn\n",
    "from torchvision import transforms, models\n",
    "from torchvision.models import ResNet18_Weights\n",
    "from PIL import Image\n",
    "import pandas as pd\n",
    "\n",
    "# 裝置選擇\n",
    "device = torch.device(\"cuda\" if torch.cuda.is_available() else \"cpu\")\n",
    "\n",
    "# 模型與說明表路徑\n",
    "model_path = \"resnet18_food.pth\"\n",
    "food_info_path = \"C:/Users/echo6/Downloads/Food/food_info.csv\"\n",
    "\n",
    "# 圖片轉換\n",
    "transform = transforms.Compose([\n",
    "    transforms.Resize((224, 224)),\n",
    "    transforms.ToTensor(),\n",
    "    transforms.Normalize([0.5, 0.5, 0.5], [0.5, 0.5, 0.5])\n",
    "])\n",
    "\n",
    "# 載入食物說明表\n",
    "food_df = pd.read_csv(food_info_path)\n",
    "food_dict = dict(zip(food_df['food'], food_df['description']))\n",
    "class_names = sorted(list(food_dict.keys()))\n",
    "\n",
    "# 建立模型架構並載入訓練權重\n",
    "model = models.resnet18(weights=ResNet18_Weights.DEFAULT)\n",
    "model.fc = nn.Linear(model.fc.in_features, len(class_names))\n",
    "model.load_state_dict(torch.load(model_path, map_location=device))\n",
    "model = model.to(device)\n",
    "model.eval()\n",
    "print(\"✅ ResNet18 模型已載入，準備啟動 Gradio\")\n",
    "\n",
    "# 預測函式\n",
    "\n",
    "def predict_with_gradio(image):\n",
    "    try:\n",
    "        image = image.convert('RGB')\n",
    "        input_tensor = transform(image).unsqueeze(0).to(device)\n",
    "        with torch.no_grad():\n",
    "            output = model(input_tensor)\n",
    "            probs = torch.softmax(output, dim=1)\n",
    "            top3 = torch.topk(probs, 3)\n",
    "\n",
    "            result_text = \"📊 預測前 3 名：\\n\"\n",
    "            for i in range(3):\n",
    "                idx = top3.indices[0][i].item()\n",
    "                label = class_names[idx]\n",
    "                prob = top3.values[0][i].item()\n",
    "                result_text += f\"Top {i+1}: {label}（信心值：{prob:.2%}）\\n\"\n",
    "\n",
    "            main_idx = top3.indices[0][0].item()\n",
    "            main_label = class_names[main_idx]\n",
    "            description = food_dict.get(main_label, \"查無資料\")\n",
    "\n",
    "            result_text += f\"\\n🍽️ 預測食物（最可能）：{main_label}\\n\"\n",
    "            result_text += f\"📘 食物說明：\\n{description}\"\n",
    "            return result_text\n",
    "    except Exception as e:\n",
    "        return f\"❌ 發生錯誤：{str(e)}\"\n"
   ]
  },
  {
   "cell_type": "code",
   "execution_count": 2,
   "id": "703e5eec-a25b-4d8a-a332-eac38212bbf3",
   "metadata": {},
   "outputs": [
    {
     "name": "stdout",
     "output_type": "stream",
     "text": [
      "* Running on local URL:  http://127.0.0.1:7867\n",
      "* To create a public link, set `share=True` in `launch()`.\n"
     ]
    },
    {
     "data": {
      "text/html": [
       "<div><iframe src=\"http://127.0.0.1:7867/\" width=\"100%\" height=\"500\" allow=\"autoplay; camera; microphone; clipboard-read; clipboard-write;\" frameborder=\"0\" allowfullscreen></iframe></div>"
      ],
      "text/plain": [
       "<IPython.core.display.HTML object>"
      ]
     },
     "metadata": {},
     "output_type": "display_data"
    },
    {
     "data": {
      "text/plain": []
     },
     "execution_count": 2,
     "metadata": {},
     "output_type": "execute_result"
    }
   ],
   "source": [
    "# Gradio 介面啟動\n",
    "interface = gr.Interface(\n",
    "    fn=predict_with_gradio,\n",
    "    inputs=gr.Image(type=\"pil\"),\n",
    "    outputs=\"text\",\n",
    "    title=\"🍱 ResNet18 AI 美食分類與說明系統\",\n",
    "    description=\"上傳一張食物圖片，系統會分類並顯示 Top-3 結果與中文說明\"\n",
    ")\n",
    "\n",
    "interface.launch()\n"
   ]
  }
 ],
 "metadata": {
  "kernelspec": {
   "display_name": "Python [conda env:base] *",
   "language": "python",
   "name": "conda-base-py"
  },
  "language_info": {
   "codemirror_mode": {
    "name": "ipython",
    "version": 3
   },
   "file_extension": ".py",
   "mimetype": "text/x-python",
   "name": "python",
   "nbconvert_exporter": "python",
   "pygments_lexer": "ipython3",
   "version": "3.12.4"
  }
 },
 "nbformat": 4,
 "nbformat_minor": 5
}
